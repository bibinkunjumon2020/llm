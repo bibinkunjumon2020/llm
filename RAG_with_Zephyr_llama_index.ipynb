{
  "nbformat": 4,
  "nbformat_minor": 0,
  "metadata": {
    "colab": {
      "provenance": [],
      "gpuType": "T4"
    },
    "kernelspec": {
      "name": "python3",
      "display_name": "Python 3"
    },
    "language_info": {
      "name": "python"
    },
    "accelerator": "GPU",
    "widgets": {
      "application/vnd.jupyter.widget-state+json": {
        "1132fb0cdc7e4251a4000a2e01e2dc20": {
          "model_module": "@jupyter-widgets/controls",
          "model_name": "HBoxModel",
          "model_module_version": "1.5.0",
          "state": {
            "_dom_classes": [],
            "_model_module": "@jupyter-widgets/controls",
            "_model_module_version": "1.5.0",
            "_model_name": "HBoxModel",
            "_view_count": null,
            "_view_module": "@jupyter-widgets/controls",
            "_view_module_version": "1.5.0",
            "_view_name": "HBoxView",
            "box_style": "",
            "children": [
              "IPY_MODEL_96e48d54cd2f465d8585a327e4bb5e98",
              "IPY_MODEL_e7a7470cb8cd4f908c481f0723bdd478",
              "IPY_MODEL_79e93956db1b410eafc13f176753f9b0"
            ],
            "layout": "IPY_MODEL_f6018e9ccc374ed883c600bfd0359405"
          }
        },
        "96e48d54cd2f465d8585a327e4bb5e98": {
          "model_module": "@jupyter-widgets/controls",
          "model_name": "HTMLModel",
          "model_module_version": "1.5.0",
          "state": {
            "_dom_classes": [],
            "_model_module": "@jupyter-widgets/controls",
            "_model_module_version": "1.5.0",
            "_model_name": "HTMLModel",
            "_view_count": null,
            "_view_module": "@jupyter-widgets/controls",
            "_view_module_version": "1.5.0",
            "_view_name": "HTMLView",
            "description": "",
            "description_tooltip": null,
            "layout": "IPY_MODEL_16262c062c11417f8ab3efa2c9228933",
            "placeholder": "​",
            "style": "IPY_MODEL_3f79d54b6992410a84bdf73dd841b15c",
            "value": "Loading checkpoint shards: 100%"
          }
        },
        "e7a7470cb8cd4f908c481f0723bdd478": {
          "model_module": "@jupyter-widgets/controls",
          "model_name": "FloatProgressModel",
          "model_module_version": "1.5.0",
          "state": {
            "_dom_classes": [],
            "_model_module": "@jupyter-widgets/controls",
            "_model_module_version": "1.5.0",
            "_model_name": "FloatProgressModel",
            "_view_count": null,
            "_view_module": "@jupyter-widgets/controls",
            "_view_module_version": "1.5.0",
            "_view_name": "ProgressView",
            "bar_style": "success",
            "description": "",
            "description_tooltip": null,
            "layout": "IPY_MODEL_d09c7956c08444e4b6892ec996cc8ecd",
            "max": 8,
            "min": 0,
            "orientation": "horizontal",
            "style": "IPY_MODEL_c3879880a1b04b3ba424795a014ca0c3",
            "value": 8
          }
        },
        "79e93956db1b410eafc13f176753f9b0": {
          "model_module": "@jupyter-widgets/controls",
          "model_name": "HTMLModel",
          "model_module_version": "1.5.0",
          "state": {
            "_dom_classes": [],
            "_model_module": "@jupyter-widgets/controls",
            "_model_module_version": "1.5.0",
            "_model_name": "HTMLModel",
            "_view_count": null,
            "_view_module": "@jupyter-widgets/controls",
            "_view_module_version": "1.5.0",
            "_view_name": "HTMLView",
            "description": "",
            "description_tooltip": null,
            "layout": "IPY_MODEL_f676158bdb734977a1d3ca1168b2ac66",
            "placeholder": "​",
            "style": "IPY_MODEL_d81b16f78a884db79c41c50d58a05c63",
            "value": " 8/8 [01:12&lt;00:00,  7.91s/it]"
          }
        },
        "f6018e9ccc374ed883c600bfd0359405": {
          "model_module": "@jupyter-widgets/base",
          "model_name": "LayoutModel",
          "model_module_version": "1.2.0",
          "state": {
            "_model_module": "@jupyter-widgets/base",
            "_model_module_version": "1.2.0",
            "_model_name": "LayoutModel",
            "_view_count": null,
            "_view_module": "@jupyter-widgets/base",
            "_view_module_version": "1.2.0",
            "_view_name": "LayoutView",
            "align_content": null,
            "align_items": null,
            "align_self": null,
            "border": null,
            "bottom": null,
            "display": null,
            "flex": null,
            "flex_flow": null,
            "grid_area": null,
            "grid_auto_columns": null,
            "grid_auto_flow": null,
            "grid_auto_rows": null,
            "grid_column": null,
            "grid_gap": null,
            "grid_row": null,
            "grid_template_areas": null,
            "grid_template_columns": null,
            "grid_template_rows": null,
            "height": null,
            "justify_content": null,
            "justify_items": null,
            "left": null,
            "margin": null,
            "max_height": null,
            "max_width": null,
            "min_height": null,
            "min_width": null,
            "object_fit": null,
            "object_position": null,
            "order": null,
            "overflow": null,
            "overflow_x": null,
            "overflow_y": null,
            "padding": null,
            "right": null,
            "top": null,
            "visibility": null,
            "width": null
          }
        },
        "16262c062c11417f8ab3efa2c9228933": {
          "model_module": "@jupyter-widgets/base",
          "model_name": "LayoutModel",
          "model_module_version": "1.2.0",
          "state": {
            "_model_module": "@jupyter-widgets/base",
            "_model_module_version": "1.2.0",
            "_model_name": "LayoutModel",
            "_view_count": null,
            "_view_module": "@jupyter-widgets/base",
            "_view_module_version": "1.2.0",
            "_view_name": "LayoutView",
            "align_content": null,
            "align_items": null,
            "align_self": null,
            "border": null,
            "bottom": null,
            "display": null,
            "flex": null,
            "flex_flow": null,
            "grid_area": null,
            "grid_auto_columns": null,
            "grid_auto_flow": null,
            "grid_auto_rows": null,
            "grid_column": null,
            "grid_gap": null,
            "grid_row": null,
            "grid_template_areas": null,
            "grid_template_columns": null,
            "grid_template_rows": null,
            "height": null,
            "justify_content": null,
            "justify_items": null,
            "left": null,
            "margin": null,
            "max_height": null,
            "max_width": null,
            "min_height": null,
            "min_width": null,
            "object_fit": null,
            "object_position": null,
            "order": null,
            "overflow": null,
            "overflow_x": null,
            "overflow_y": null,
            "padding": null,
            "right": null,
            "top": null,
            "visibility": null,
            "width": null
          }
        },
        "3f79d54b6992410a84bdf73dd841b15c": {
          "model_module": "@jupyter-widgets/controls",
          "model_name": "DescriptionStyleModel",
          "model_module_version": "1.5.0",
          "state": {
            "_model_module": "@jupyter-widgets/controls",
            "_model_module_version": "1.5.0",
            "_model_name": "DescriptionStyleModel",
            "_view_count": null,
            "_view_module": "@jupyter-widgets/base",
            "_view_module_version": "1.2.0",
            "_view_name": "StyleView",
            "description_width": ""
          }
        },
        "d09c7956c08444e4b6892ec996cc8ecd": {
          "model_module": "@jupyter-widgets/base",
          "model_name": "LayoutModel",
          "model_module_version": "1.2.0",
          "state": {
            "_model_module": "@jupyter-widgets/base",
            "_model_module_version": "1.2.0",
            "_model_name": "LayoutModel",
            "_view_count": null,
            "_view_module": "@jupyter-widgets/base",
            "_view_module_version": "1.2.0",
            "_view_name": "LayoutView",
            "align_content": null,
            "align_items": null,
            "align_self": null,
            "border": null,
            "bottom": null,
            "display": null,
            "flex": null,
            "flex_flow": null,
            "grid_area": null,
            "grid_auto_columns": null,
            "grid_auto_flow": null,
            "grid_auto_rows": null,
            "grid_column": null,
            "grid_gap": null,
            "grid_row": null,
            "grid_template_areas": null,
            "grid_template_columns": null,
            "grid_template_rows": null,
            "height": null,
            "justify_content": null,
            "justify_items": null,
            "left": null,
            "margin": null,
            "max_height": null,
            "max_width": null,
            "min_height": null,
            "min_width": null,
            "object_fit": null,
            "object_position": null,
            "order": null,
            "overflow": null,
            "overflow_x": null,
            "overflow_y": null,
            "padding": null,
            "right": null,
            "top": null,
            "visibility": null,
            "width": null
          }
        },
        "c3879880a1b04b3ba424795a014ca0c3": {
          "model_module": "@jupyter-widgets/controls",
          "model_name": "ProgressStyleModel",
          "model_module_version": "1.5.0",
          "state": {
            "_model_module": "@jupyter-widgets/controls",
            "_model_module_version": "1.5.0",
            "_model_name": "ProgressStyleModel",
            "_view_count": null,
            "_view_module": "@jupyter-widgets/base",
            "_view_module_version": "1.2.0",
            "_view_name": "StyleView",
            "bar_color": null,
            "description_width": ""
          }
        },
        "f676158bdb734977a1d3ca1168b2ac66": {
          "model_module": "@jupyter-widgets/base",
          "model_name": "LayoutModel",
          "model_module_version": "1.2.0",
          "state": {
            "_model_module": "@jupyter-widgets/base",
            "_model_module_version": "1.2.0",
            "_model_name": "LayoutModel",
            "_view_count": null,
            "_view_module": "@jupyter-widgets/base",
            "_view_module_version": "1.2.0",
            "_view_name": "LayoutView",
            "align_content": null,
            "align_items": null,
            "align_self": null,
            "border": null,
            "bottom": null,
            "display": null,
            "flex": null,
            "flex_flow": null,
            "grid_area": null,
            "grid_auto_columns": null,
            "grid_auto_flow": null,
            "grid_auto_rows": null,
            "grid_column": null,
            "grid_gap": null,
            "grid_row": null,
            "grid_template_areas": null,
            "grid_template_columns": null,
            "grid_template_rows": null,
            "height": null,
            "justify_content": null,
            "justify_items": null,
            "left": null,
            "margin": null,
            "max_height": null,
            "max_width": null,
            "min_height": null,
            "min_width": null,
            "object_fit": null,
            "object_position": null,
            "order": null,
            "overflow": null,
            "overflow_x": null,
            "overflow_y": null,
            "padding": null,
            "right": null,
            "top": null,
            "visibility": null,
            "width": null
          }
        },
        "d81b16f78a884db79c41c50d58a05c63": {
          "model_module": "@jupyter-widgets/controls",
          "model_name": "DescriptionStyleModel",
          "model_module_version": "1.5.0",
          "state": {
            "_model_module": "@jupyter-widgets/controls",
            "_model_module_version": "1.5.0",
            "_model_name": "DescriptionStyleModel",
            "_view_count": null,
            "_view_module": "@jupyter-widgets/base",
            "_view_module_version": "1.2.0",
            "_view_name": "StyleView",
            "description_width": ""
          }
        }
      }
    }
  },
  "cells": [
    {
      "cell_type": "markdown",
      "source": 
        "https://akash-mathur.medium.com/advanced-rag-optimizing-retrieval-with-additional-context-metadata-using-llamaindex-aeaa32d7aa2f"
      ],
      "metadata": {
        "id": "YRSpw8nDstAN"
      }
    },
    {
      "cell_type": "code",
      "source": [
        "!pip install llama-index"
      ],
      "metadata": {
        "id": "cEpRPczPtmk4"
      },
      "execution_count": null,
      "outputs": []
    },
    {
      "cell_type": "markdown",
      "source": [
        "lOAD dATA"
      ],
      "metadata": {
        "id": "nt6xA1jttEpG"
      }
    },
    {
      "cell_type": "code",
      "source": [
        "!ls"
      ],
      "metadata": {
        "colab": {
          "base_uri": "https://localhost:8080/"
        },
        "id": "ux7OMOPNuAnZ",
        "outputId": "c49aab51-807a-47ca-e604-4a83c2fb2e13"
      },
      "execution_count": 2,
      "outputs": [
        {
          "output_type": "stream",
          "name": "stdout",
          "text": [
            "sample_data  snake-capture-services.pdf\n"
          ]
        }
      ]
    },
    {
      "cell_type": "code",
      "execution_count": 3,
      "metadata": {
        "id": "Z82zCSwqsfeZ"
      },
      "outputs": [],
      "source": [
        "from llama_index import download_loader,Path,Document\n",
        "\n",
        "PDFReader = download_loader(\"PDFReader\")\n",
        "loader = PDFReader()\n",
        "docs = loader.load_data(file=Path(\"./snake-capture-services.pdf\"))\n",
        "\n",
        "# combine all the text\n",
        "doc_text = \"\\n\\n\".join([d.get_content() for d in docs])\n",
        "documents = [Document(text=doc_text)]"
      ]
    },
    {
      "cell_type": "code",
      "source": [
        "print(documents[0].text)"
      ],
      "metadata": {
        "colab": {
          "base_uri": "https://localhost:8080/"
        },
        "id": "HCftUQiiugUu",
        "outputId": "699e981a-53fd-4d12-d6af-da6d33d1bdc5"
      },
      "execution_count": 4,
      "outputs": [
        {
          "output_type": "stream",
          "name": "stdout",
          "text": [
            "{'url': 'https://www.gov.bw/public-safety/snake-capture-services',\n",
            "'department': 'Law, Crime and Justice', 'section': 'Public Safety', 'title': 'Snake\n",
            "Capture Services', 'contents': \"Snake Capture\n",
            "Services\\n\\nOverview\\nBotswana Defence Force (BDF) provides snake\n",
            "capture services, in Gaborone and its periphery. With the escalating reports\n",
            "of snakes found in homesteads the BDF has since engaged in assisting\n",
            "members of the community in capturing such dangerous reptiles.Caution:Do\n",
            "not attempt to capture the snakes by yourselfIf you are not in danger do not\n",
            "attempt to kill the snakeIf there is a snake bite:Do not panic but remain\n",
            "calmDo not cut the wound or attempt to remove the venomImmobilise the\n",
            "bitten part and stay as quiet as possible to keep the poison from spreading\n",
            "through your bodyRemove jewelry before you start to swellApply a splint to\n",
            "reduce blood movement of the affected area but keep it loose enough so as\n",
            "not to restrict blood flowDon't drink caffeine and alcoholCleanse the wound\n",
            "but don't flush it with water, cover it with a clean dry clothPosition yourself if\n",
            "possible so that the bite is at or below the level of your heartDon't try to\n",
            "capture the snake but try to remember its type,colour and shape so that you\n",
            "can describe it, which will help in your treatment.Call 998 or seek immediate\n",
            "medical attentionThis service is provided 24 hours 7 days a week.\\nWho is\n",
            "eligible?\\nMembers of the public in and around Gaborone\\nHow do I get this\n",
            "service?\\nPlease call Snake Handlers\\nWhat supporting documents are\n",
            "required?\\nNone\\nHow long will this service take?\\nService is treated as an\n",
            "emergency\\nHow much does it cost?\\nP100.00\\nWhere can I obtain this\n",
            "service?\\nSir Seretse Khama Barracks, Mogoditshane\\xa0Snake\n",
            "Handlers:Landline 3662060 \\xa0\\xa0\\xa0\\xa0\\xa0\\xa0\\xa0\\xa0\\xa0\\xa0\\xa0\n",
            "Mobile: 75669120\\xa0Duty Field Officer Landline: 3662208\\nWhere can I get\n",
            "more information on this Service\\nThe Directorate of Protocol and Public\n",
            "AffairsBotswana Defence Force Private Bag X06GaboroneBotswanaTel.\n",
            "(+267) 3662802/3662157/3662089Email: info.bdf [at] gov.bw\", 'documents':\n",
            "[]}\n",
            "\n"
          ]
        }
      ]
    },
    {
      "cell_type": "markdown",
      "source": [
        "Chunking"
      ],
      "metadata": {
        "id": "tww7Lik_tHFU"
      }
    },
    {
      "cell_type": "code",
      "source": [
        "from llama_index.text_splitter import SentenceSplitter\n",
        "\n",
        "node_parser = SentenceSplitter(chunk_size=1024)\n",
        "\n",
        "base_nodes = node_parser.get_nodes_from_documents(documents)\n",
        "# set node ids to be a constant\n",
        "for idx, node in enumerate(base_nodes):\n",
        "    node.id_ = f\"node-{idx}\"\n",
        "\n",
        "# print all the node ids corrosponding to all the chunks\n",
        "for node in base_nodes:\n",
        "  print(node.id_)"
      ],
      "metadata": {
        "colab": {
          "base_uri": "https://localhost:8080/"
        },
        "id": "uYm2beAltGXU",
        "outputId": "8c348971-9cab-41e3-c5fd-2e695ef8fce7"
      },
      "execution_count": 5,
      "outputs": [
        {
          "output_type": "stream",
          "name": "stdout",
          "text": [
            "node-0\n"
          ]
        }
      ]
    },
    {
      "cell_type": "markdown",
      "source": [
        "LLM & Embed"
      ],
      "metadata": {
        "id": "krUXcuOatNUt"
      }
    },
    {
      "cell_type": "code",
      "source": [
        "!pip install bitsandbytes\n",
        "!pip install accelerate"
      ],
      "metadata": {
        "id": "euDIEGQs5sCP"
      },
      "execution_count": null,
      "outputs": []
    },
    {
      "cell_type": "code",
      "source": [
        "!pip install langchain"
      ],
      "metadata": {
        "id": "-LlCOvZx97JK"
      },
      "execution_count": null,
      "outputs": []
    },
    {
      "cell_type": "code",
      "source": [
        "from google.colab import userdata\n",
        "from transformers import BitsAndBytesConfig\n",
        "import torch\n",
        "from llama_index.llms.huggingface import HuggingFaceLLM\n",
        "\n",
        "from llama_index import PromptTemplate"
      ],
      "metadata": {
        "id": "OaL5wERq-XIF"
      },
      "execution_count": 11,
      "outputs": []
    },
    {
      "cell_type": "code",
      "source": [
        "\n",
        "\n",
        "# huggingface api token for downloading zephyr-7b\n",
        "hf_token = userdata.get('hf_token')\n",
        "\n",
        "quantization_config = BitsAndBytesConfig(\n",
        "    load_in_4bit=True,\n",
        "    bnb_4bit_compute_dtype=torch.float16,\n",
        "    bnb_4bit_quant_type=\"nf4\",\n",
        "    bnb_4bit_use_double_quant=True,\n",
        ")\n",
        "\n",
        "\n",
        "def messages_to_prompt(messages):\n",
        "  prompt = \"\"\n",
        "  for message in messages:\n",
        "    if message.role == 'system':\n",
        "      prompt += f\"<|system|>\\n{message.content}</s>\\n\"\n",
        "    elif message.role == 'user':\n",
        "      prompt += f\"<|user|>\\n{message.content}</s>\\n\"\n",
        "    elif message.role == 'assistant':\n",
        "      prompt += f\"<|assistant|>\\n{message.content}</s>\\n\"\n",
        "\n",
        "  # ensure we start with a system prompt, insert blank if needed\n",
        "  if not prompt.startswith(\"<|system|>\\n\"):\n",
        "    prompt = \"<|system|>\\n</s>\\n\" + prompt\n",
        "\n",
        "  # add final assistant prompt\n",
        "  prompt = prompt + \"<|assistant|>\\n\"\n",
        "\n",
        "  return prompt"
      ],
      "metadata": {
        "id": "-z8_u8Vk-dS7"
      },
      "execution_count": 12,
      "outputs": []
    },
    {
      "cell_type": "code",
      "source": [
        "\n",
        "\n",
        "\n",
        "# LLM\n",
        "llm = HuggingFaceLLM(\n",
        "    model_name=\"HuggingFaceH4/zephyr-7b-alpha\",\n",
        "    tokenizer_name=\"HuggingFaceH4/zephyr-7b-alpha\",\n",
        "    query_wrapper_prompt=PromptTemplate(\"<|system|>\\n</s>\\n<|user|>\\n{query_str}</s>\\n<|assistant|>\\n\"),\n",
        "    context_window=3900,\n",
        "    max_new_tokens=256,\n",
        "    model_kwargs={\"quantization_config\": quantization_config},\n",
        "    # tokenizer_kwargs={},\n",
        "    generate_kwargs={\"temperature\": 0.7, \"top_k\": 50, \"top_p\": 0.95},\n",
        "    messages_to_prompt=messages_to_prompt,\n",
        "    device_map=\"auto\",\n",
        ")"
      ],
      "metadata": {
        "colab": {
          "base_uri": "https://localhost:8080/",
          "height": 49,
          "referenced_widgets": [
            "1132fb0cdc7e4251a4000a2e01e2dc20",
            "96e48d54cd2f465d8585a327e4bb5e98",
            "e7a7470cb8cd4f908c481f0723bdd478",
            "79e93956db1b410eafc13f176753f9b0",
            "f6018e9ccc374ed883c600bfd0359405",
            "16262c062c11417f8ab3efa2c9228933",
            "3f79d54b6992410a84bdf73dd841b15c",
            "d09c7956c08444e4b6892ec996cc8ecd",
            "c3879880a1b04b3ba424795a014ca0c3",
            "f676158bdb734977a1d3ca1168b2ac66",
            "d81b16f78a884db79c41c50d58a05c63"
          ]
        },
        "id": "NWFACN9ntR6T",
        "outputId": "624bad07-2b63-4c7a-ceb1-dddeacd88267"
      },
      "execution_count": 14,
      "outputs": [
        {
          "output_type": "display_data",
          "data": {
            "text/plain": [
              "Loading checkpoint shards:   0%|          | 0/8 [00:00<?, ?it/s]"
            ],
            "application/vnd.jupyter.widget-view+json": {
              "version_major": 2,
              "version_minor": 0,
              "model_id": "1132fb0cdc7e4251a4000a2e01e2dc20"
            }
          },
          "metadata": {}
        }
      ]
    },
    {
      "cell_type": "code",
      "source": [
        "# import torch\n",
        "\n",
        "# DEVICE = 'cuda' if torch.cuda.is_available() else 'cpu'\n"
      ],
      "metadata": {
        "id": "cxEa3yCj_qN3"
      },
      "execution_count": 18,
      "outputs": []
    },
    {
      "cell_type": "code",
      "source": [
        "!pip install InstructorEmbedding"
      ],
      "metadata": {
        "colab": {
          "base_uri": "https://localhost:8080/"
        },
        "id": "wgE5_dHMAGIH",
        "outputId": "b2f509e3-571e-4405-995b-98fe804a6b2b"
      },
      "execution_count": 31,
      "outputs": [
        {
          "output_type": "stream",
          "name": "stdout",
          "text": [
            "Requirement already satisfied: InstructorEmbedding in /usr/local/lib/python3.10/dist-packages (1.0.1)\n"
          ]
        }
      ]
    },
    {
      "cell_type": "code",
      "source": [
        "!pip install sentence_transformers"
      ],
      "metadata": {
        "id": "fOYZUBfwBort"
      },
      "execution_count": null,
      "outputs": []
    },
    {
      "cell_type": "code",
      "source": [
        "# # from langchain_community.embeddings.huggingface import HuggingFaceInstructEmbeddings\n",
        "\n",
        "# from InstructorEmbedding import INSTRUCTOR\n",
        "# from llama_index import ServiceContext\n",
        "\n",
        "# embed_model = INSTRUCTOR('hkunlp/instructor-large')\n",
        "# # # Embedding\n",
        "# # embed_model = HuggingFaceInstructEmbeddings(\n",
        "# #     model_name=\"hkunlp/instructor-large\"\n",
        "# # )\n",
        "\n",
        "# # set your ServiceContext for all the next steps\n",
        "# service_context = ServiceContext.from_defaults(\n",
        "#     llm=llm, embed_model=embed_model\n",
        "#     )"
      ],
      "metadata": {
        "id": "2H183_zl-hnz"
      },
      "execution_count": null,
      "outputs": []
    },
    {
      "cell_type": "code",
      "source": [
        "from langchain_community.embeddings import HuggingFaceInstructEmbeddings\n",
        "\n",
        "model_name = \"hkunlp/instructor-large\"\n",
        "model_kwargs = {'device': 'cpu'}\n",
        "encode_kwargs = {'normalize_embeddings': True}\n",
        "hf = HuggingFaceInstructEmbeddings(\n",
        "    model_name=model_name,\n",
        "    model_kwargs=model_kwargs,\n",
        "    encode_kwargs=encode_kwargs\n",
        ")"
      ],
      "metadata": {
        "colab": {
          "base_uri": "https://localhost:8080/"
        },
        "id": "9d80S3Y4F5wE",
        "outputId": "ea736a40-0c65-4241-9a2f-40946dad708b"
      },
      "execution_count": 39,
      "outputs": [
        {
          "output_type": "stream",
          "name": "stdout",
          "text": [
            "load INSTRUCTOR_Transformer\n",
            "max_seq_length  512\n"
          ]
        }
      ]
    },
    {
      "cell_type": "code",
      "source": [
        "# set your ServiceContext for all the next steps\n",
        "service_context = ServiceContext.from_defaults(\n",
        "    llm=llm, embed_model=hf\n",
        "    )"
      ],
      "metadata": {
        "id": "dLj3dT4cGHNQ"
      },
      "execution_count": 40,
      "outputs": []
    },
    {
      "cell_type": "markdown",
      "source": [
        "Retrieving  & Querieing"
      ],
      "metadata": {
        "id": "CQpiDCp0tYyw"
      }
    },
    {
      "cell_type": "markdown",
      "source": [
        "Base Retriever- It simply fetches the top-k raw text nodes by embedding similarity."
      ],
      "metadata": {
        "id": "B64Z53H6I9_O"
      }
    },
    {
      "cell_type": "code",
      "source": [
        "from llama_index import VectorStoreIndex\n",
        "from llama_index.response.notebook_utils import display_source_node\n",
        "# index\n",
        "base_index = VectorStoreIndex(base_nodes, service_context=service_context)\n",
        "# find top 2 nodes\n",
        "base_retriever = base_index.as_retriever(similarity_top_k=2)\n",
        "\n",
        "retrievals = base_retriever.retrieve(\n",
        "    \"how can we handle snake in house?\"\n",
        ")\n",
        "\n",
        "for n in retrievals:\n",
        "    display_source_node(n, source_length=1500)"
      ],
      "metadata": {
        "colab": {
          "base_uri": "https://localhost:8080/",
          "height": 255
        },
        "id": "WBosd1nftchT",
        "outputId": "563086c2-9991-4d39-c65f-8aa77667a38a"
      },
      "execution_count": 42,
      "outputs": [
        {
          "output_type": "display_data",
          "data": {
            "text/plain": [
              "<IPython.core.display.Markdown object>"
            ],
            "text/markdown": "**Node ID:** node-0<br>**Similarity:** 0.8391734595405377<br>**Text:** {'url': 'https://www.gov.bw/public-safety/snake-capture-services',\n'department': 'Law, Crime and Justice', 'section': 'Public Safety', 'title': 'Snake\nCapture Services', 'contents': \"Snake Capture\nServices\\n\\nOverview\\nBotswana Defence Force (BDF) provides snake\ncapture services, in Gaborone and its periphery. With the escalating reports\nof snakes found in homesteads the BDF has since engaged in assisting\nmembers of the community in capturing such dangerous reptiles.Caution:Do\nnot attempt to capture the snakes by yourselfIf you are not in danger do not\nattempt to kill the snakeIf there is a snake bite:Do not panic but remain\ncalmDo not cut the wound or attempt to remove the venomImmobilise the\nbitten part and stay as quiet as possible to keep the poison from spreading\nthrough your bodyRemove jewelry before you start to swellApply a splint to\nreduce blood movement of the affected area but keep it loose enough so as\nnot to restrict blood flowDon't drink caffeine and alcoholCleanse the wound\nbut don't flush it with water, cover it with a clean dry clothPosition yourself if\npossible so that the bite is at or below the level of your heartDon't try to\ncapture the snake but try to remember its type,colour and shape so that you\ncan describe it, which will help in your treatment.Call 998 or seek immediate\nmedical attentionThis service is provided 24 hours 7 days a week.\\nWho is\neligible?\\nMembers of the public in and around Gaborone\\nHow do I get this\nservice?\\nPlease call Snake Ha...<br>"
          },
          "metadata": {}
        }
      ]
    },
    {
      "cell_type": "code",
      "source": [
        "from llama_index.query_engine.retriever_query_engine import RetrieverQueryEngine\n",
        "# create a query engine\n",
        "query_engine_base = RetrieverQueryEngine.from_args(\n",
        "    base_retriever, service_context=service_context\n",
        ")\n"
      ],
      "metadata": {
        "colab": {
          "base_uri": "https://localhost:8080/"
        },
        "id": "ISeefYCuJRto",
        "outputId": "a04c67ae-619e-40fb-878c-45adcd9ec131"
      },
      "execution_count": 44,
      "outputs": [
        {
          "output_type": "stream",
          "name": "stderr",
          "text": [
            "/usr/local/lib/python3.10/dist-packages/transformers/generation/utils.py:1473: UserWarning: You have modified the pretrained model configuration to control generation. This is a deprecated strategy to control generation and will be removed soon, in a future version. Please use and modify the model generation configuration (see https://huggingface.co/docs/transformers/generation_strategies#default-text-generation-configuration )\n",
            "  warnings.warn(\n",
            "/usr/local/lib/python3.10/dist-packages/transformers/generation/configuration_utils.py:381: UserWarning: `do_sample` is set to `False`. However, `temperature` is set to `0.7` -- this flag is only used in sample-based generation modes. You should set `do_sample=True` or unset `temperature`.\n",
            "  warnings.warn(\n",
            "/usr/local/lib/python3.10/dist-packages/transformers/generation/configuration_utils.py:386: UserWarning: `do_sample` is set to `False`. However, `top_p` is set to `0.95` -- this flag is only used in sample-based generation modes. You should set `do_sample=True` or unset `top_p`.\n",
            "  warnings.warn(\n"
          ]
        }
      ]
    },
    {
      "cell_type": "code",
      "source": [
        "import warnings\n",
        "warnings.filterwarnings('ignore', category=RuntimeWarning)\n",
        "warnings.filterwarnings('ignore', category=UserWarning)"
      ],
      "metadata": {
        "id": "4uvZFljlK5fa"
      },
      "execution_count": 49,
      "outputs": []
    },
    {
      "cell_type": "code",
      "source": [
        "%%time\n",
        "# query\n",
        "response = query_engine_base.query(\n",
        "    \"oh my god there is a snake?\"\n",
        ")\n",
        "print(response)"
      ],
      "metadata": {
        "colab": {
          "base_uri": "https://localhost:8080/"
        },
        "id": "SFJdXh_FKJDG",
        "outputId": "d453cbff-fa7a-43dd-edfb-a6874813b04b"
      },
      "execution_count": 53,
      "outputs": [
        {
          "output_type": "stream",
          "name": "stdout",
          "text": [
            "If you encounter a snake and need assistance, you can call the Snake Handlers provided by the Botswana Defence Force (BDF) for snake capture services. The service is available 24 hours a day, 7 days a week, and is provided in and around Gaborone. The BDF provides this service to members of the public, and the cost is P100.00. If you are not in danger, do not attempt to capture or kill the snake. If there is a snake bite, do not panic, remain calm, and seek immediate medical attention. For more information, you can contact the Directorate of Protocol and Public Affairs at the Botswana Defence Force.\n",
            "CPU times: user 12.7 s, sys: 191 ms, total: 12.9 s\n",
            "Wall time: 12.9 s\n"
          ]
        }
      ]
    }
  ]
}
